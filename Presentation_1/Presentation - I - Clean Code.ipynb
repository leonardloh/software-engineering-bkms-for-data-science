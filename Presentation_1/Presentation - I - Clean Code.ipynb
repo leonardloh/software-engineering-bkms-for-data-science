{
 "cells": [
  {
   "cell_type": "markdown",
   "id": "74101140",
   "metadata": {},
   "source": [
    "# Software Engineering BKMs in Data Science\n",
    "\n",
    "Data science is a field that requires a diverse set of skills, including statistical analysis, machine learning, and software engineering. \n",
    "\n",
    "As the field continues to evolve and grow, it is becoming increasingly important for data scientists to not only have a deep understanding of the statistical and mathematical concepts, but also to be skilled in software engineering practices. Best Known Methods (BKM) in Software Engineering for Data Scientists are critical for building scalable and maintainable data science projects. \n",
    "\n",
    "Ref:  \n",
    "https://www.freecodecamp.org/news/clean-coding-for-beginners/"
   ]
  },
  {
   "cell_type": "markdown",
   "id": "53130895",
   "metadata": {},
   "source": [
    "# Clean Code"
   ]
  },
  {
   "cell_type": "markdown",
   "id": "2d036787",
   "metadata": {},
   "source": [
    "\n",
    "\n",
    "__What is it?__\n",
    "\n",
    "Clean code is code that is easy to understand and easy to change.\n",
    "\n",
    "__How do you know if a code is clean?__\n",
    "![clean code](https://commadot.com/wp-content/uploads/2009/02/wtf.png)\n",
    "\n",
    ">\"Any fool can write code that a computer can understand. Good programmers write code that humans can understand.\"                                       – Martin Fowler\n",
    "\n"
   ]
  },
  {
   "cell_type": "markdown",
   "id": "7e459cd5",
   "metadata": {},
   "source": [
    "# Naming"
   ]
  },
  {
   "cell_type": "markdown",
   "id": "c722013d",
   "metadata": {},
   "source": [
    "![img](https://i.redd.it/pn6292mmqsy31.jpg)\n",
    "The process of creating high-quality software requires attention to detail in various aspects, and one of these critical aspects is naming. Naming might seem trivial, but it has a significant impact on the readability, maintainability, and overall quality of your code. \n",
    "\n",
    "> \"There are only two hard things in Computer Science: cache invalidation and naming things.\"                                                                                                                – Phil Karlton\n",
    "\n",
    "\n",
    "__Why Naming Matters:__\n",
    "\n",
    "*Readability*: Code is read more often than it is written. Good naming practices make it easier for others (and yourself) to understand the purpose of variables, functions, and classes, improving the overall readability of your code.\n",
    "\n",
    "*Maintainability*: When working on large projects or collaborating with a team, clear and descriptive naming makes it easier to maintain the code, as it helps to understand the functionality of different components quickly.\n",
    "\n",
    "*Debugging*: Meaningful names help identify potential issues during the debugging process, as they provide context and make it easier to pinpoint the source of problems."
   ]
  },
  {
   "cell_type": "markdown",
   "id": "15f9043b",
   "metadata": {},
   "source": [
    "__How to Create Meaningful Names:__  \n",
    "\n",
    "Do not use comments to explain why a variable is used. If a name requires a comment, then you should take your time to rename that variable instead of writing a comment.\n",
    "\n",
    "> \"A name should tell you why it exists, what it does, and how it is used. If a name requires a comment, then the name does not reveal its intent.\"                 – Clean Code"
   ]
  },
  {
   "cell_type": "code",
   "execution_count": null,
   "id": "478e689d",
   "metadata": {},
   "outputs": [],
   "source": [
    "#Bad\n",
    "\n",
    "d = 0 # elapsed time in days"
   ]
  },
  {
   "cell_type": "markdown",
   "id": "ba83c39e",
   "metadata": {},
   "source": [
    "It is a common misconception that you should hide your mess with comments. Do not use letters like x, y, a, or b as variable names unless there is a good reason (loop variables are an exception to this)."
   ]
  },
  {
   "cell_type": "code",
   "execution_count": null,
   "id": "92d6f8ba",
   "metadata": {},
   "outputs": [],
   "source": [
    "# Good\n",
    "elapsed_time_in_days = 0\n",
    "days_since_creation = 0\n",
    "days_since_modification = 0"
   ]
  },
  {
   "cell_type": "markdown",
   "id": "2d9e09f4",
   "metadata": {},
   "source": [
    "These names are so much better. They tell you what is being measured and the unit of that measurement."
   ]
  },
  {
   "cell_type": "markdown",
   "id": "594ef042",
   "metadata": {},
   "source": [
    "__Drop the Noise Words__\n",
    "\n",
    " Noise words are words that add no value to the meaning of the name and can make it harder to read and understand the code. Examples of noise words include:\n",
    " - \"the\", \n",
    " - \"info\" \n",
    " - \"data\" \n",
    " - \"variable\" \n",
    " - \"object\" \n",
    " - \"manager\" \n",
    "\n",
    "If your class is named `ProductInfo`, you can remove the `Info` and make it `Product`. You can use `SPC` instead of `SPCData`."
   ]
  },
  {
   "cell_type": "markdown",
   "id": "5e3e7abe",
   "metadata": {},
   "source": [
    "__Pronunceable Words__\n",
    "\n",
    "Using pronounceable names in your code is part of the clean code practice. But wait, why do we need pronounceable names?  \n",
    "\n",
    "Well, think about it: if you can't pronounce a name, how are you going to talk about it with your team?"
   ]
  },
  {
   "cell_type": "code",
   "execution_count": null,
   "id": "11a22adc",
   "metadata": {},
   "outputs": [],
   "source": [
    "from datetime import datetime\n",
    "\n",
    "now = datetime.now()\n",
    "\n",
    "#Bad\n",
    "yyymmdd_str = now.strftime(\"%Y/%m/%d\")\n",
    "\n",
    "#Good\n",
    "current_date = now.strftime(\"%Y/%m/%d\")"
   ]
  },
  {
   "cell_type": "markdown",
   "id": "fabed980",
   "metadata": {},
   "source": [
    "__Use Searchable Names__\n",
    "\n",
    "Name your constant and try to avoid abbreviations and single-letter names. "
   ]
  },
  {
   "cell_type": "code",
   "execution_count": null,
   "id": "01f6aaba",
   "metadata": {},
   "outputs": [],
   "source": [
    "# Bad\n",
    "accuracy = 0\n",
    "\n",
    "if accuracy < 0.8:\n",
    "    # do something with your model\n",
    "    pass"
   ]
  },
  {
   "cell_type": "code",
   "execution_count": null,
   "id": "84ecf394",
   "metadata": {},
   "outputs": [],
   "source": [
    "# Good\n",
    "ACCURACY_THRESHOLD = 0.8\n",
    "accuracy = 0\n",
    "\n",
    "if accuracy < ACCURACY_THRESHOLD:\n",
    "    # do something with your model\n",
    "    pass"
   ]
  },
  {
   "cell_type": "markdown",
   "id": "88d1d7a7",
   "metadata": {},
   "source": [
    "This is much better because `ACCURACY_THRESHOLD` can be used in many places in code. If we need to change it to 0.9 in the future, we can just change the constant.\n",
    "\n",
    "The bad example creates question marks in the reader's mind, like what is the importance of `0.8`?\n",
    "\n",
    "__Summary__  \n",
    "\n",
    "| Type                | Convention                                 | Example          |\n",
    "|---------------------|--------------------------------------------|------------------|\n",
    "| Function and variable| Lowercase and underscore separated         | func_name, var_name|\n",
    "| Constant            | Uppercase                                  | PI, TAU          |\n",
    "| Class               | CapWords                                   | MyClass, TypeVar |\n",
    "| Filename - class    | CapWords                                   | MyClass.py, TypeVar.py |\n",
    "| Filename - others   | Lowercase, can be underscore separated but discouraged | module, module_pack |\n"
   ]
  },
  {
   "cell_type": "markdown",
   "id": "9e03ab85",
   "metadata": {},
   "source": [
    "*** AND SERIOUSLY, DO NOT TO LEAVE WHITESPACES WHEN NAMING YOUR `.PY` FILE` ***"
   ]
  },
  {
   "cell_type": "markdown",
   "id": "5aefb146",
   "metadata": {},
   "source": [
    "# Functions\n",
    "\n",
    "__Keep them Small__\n",
    "\n",
    "Create functions that are focused, simple, and easy to understand. A function that is too long and complex can be difficult to read and comprehend, and may also be harder to modify and maintain in the future.\n",
    "\n",
    "To keep functions small, it's recommended to follow the Single Responsibility Principle (SRP), which states that a function should do one thing and do it well. This means that a function should have a clear and specific purpose, and should not be responsible for multiple tasks or responsibilities."
   ]
  },
  {
   "cell_type": "markdown",
   "id": "6939d1ff",
   "metadata": {},
   "source": [
    "__Make Sure They Just Do One Thing__\n",
    "\n",
    ">Functions should do one thing. They should do it well. They should do it only. – Clean Code\n",
    "\n",
    "Lets look at a code that process data that send an email once it is processed.\n",
    "```Python\n",
    "\n",
    "#Bad\n",
    "def process_data(data):\n",
    "    for item in data:\n",
    "        # Do some processing\n",
    "        # ...\n",
    "        # Send an email to the user\n",
    "        send_email(item['email'], 'Data processed successfully')\n",
    "        # ...\n",
    "        # Save the data to the database\n",
    "        save_to_database(item)\n",
    "\n",
    "\n",
    "```"
   ]
  },
  {
   "cell_type": "markdown",
   "id": "3bdee44c",
   "metadata": {},
   "source": [
    "In this example, the `process_data()` function is responsible for three different tasks: processing the data, sending an email to the user, and saving the data to the database. This violates the Single Responsibility Principle and makes the code harder to read, understand, and maintain. If there is an issue with one of the tasks, it can be difficult to locate and fix it without affecting the other tasks.  \n",
    "\n",
    "Lets looks at how we can make it better.\n",
    "\n",
    "```Python\n",
    "#Good\n",
    "\n",
    "def process_data(data):\n",
    "    processed_data = []\n",
    "    for item in data:\n",
    "        processed_item = process_item(item)\n",
    "        processed_data.append(processed_item)\n",
    "    return processed_data\n",
    "\n",
    "def process_item(item):\n",
    "    # Do some processing\n",
    "    # ...\n",
    "    return processed_item\n",
    "\n",
    "def send_email(email, message):\n",
    "    # Send an email to the user\n",
    "    # ...\n",
    "\n",
    "def save_to_database(item):\n",
    "    # Save the data to the database\n",
    "    # ...\n",
    "```\n",
    "\n",
    "In this example, the process_data() function is only responsible for processing the data, and delegates the tasks of sending an email and saving the data to separate functions. Each function is focused on doing one thing and doing it well, which makes the code easier to read, understand, and maintain. If there is an issue with one of the tasks, it can be located and fixed without affecting the other tasks."
   ]
  },
  {
   "cell_type": "markdown",
   "id": "c17dc678",
   "metadata": {},
   "source": [
    "__Encapsulate Conditionals in Functions__\n",
    "\n",
    "Encapsulating conditionals in functions is considered an important practice in clean code development. The idea behind this practice is to create functions that are focused and have a clear and specific purpose, rather than having conditionals scattered throughout the codebase.\n",
    "\n",
    "By encapsulating conditionals in functions, you can improve the readability and maintainability of your code, as well as make it easier to test and debug. Here's an example to illustrate this:\n",
    "\n",
    "Bad Example:\n",
    "\n",
    "```Python\n",
    "# Scattered conditional statements\n",
    "if temperature > 30 and humidity > 60 and time_of_day == 'afternoon':\n",
    "    fan.turn_on()\n",
    "    air_conditioner.turn_on()\n",
    "elif temperature < 10 and time_of_day == 'morning':\n",
    "    heater.turn_on()\n",
    "elif temperature > 20 and time_of_day == 'evening':\n",
    "    fan.turn_on()\n",
    "    air_conditioner.turn_on()\n",
    "else:\n",
    "    fan.turn_off()\n",
    "    air_conditioner.turn_off()\n",
    "    heater.turn_off()\n",
    "```\n",
    "In this example, the conditional statements are scattered throughout the code, which can make it difficult to read and maintain. As the number of conditions grows, it can become increasingly challenging to locate and modify the relevant sections of code.\n",
    "\n",
    "```Python\n",
    "\n",
    "# Encapsulated conditionals in functions\n",
    "def is_hot_afternoon(temperature, humidity, time_of_day):\n",
    "    return temperature > 30 and humidity > 60 and time_of_day == 'afternoon'\n",
    "\n",
    "def is_cold_morning(temperature, time_of_day):\n",
    "    return temperature < 10 and time_of_day == 'morning'\n",
    "\n",
    "def is_warm_evening(temperature, time_of_day):\n",
    "    return temperature > 20 and time_of_day == 'evening'\n",
    "\n",
    "def handle_hot_afternoon():\n",
    "    fan.turn_on()\n",
    "    air_conditioner.turn_on()\n",
    "\n",
    "def handle_cold_morning():\n",
    "    heater.turn_on()\n",
    "\n",
    "def handle_warm_evening():\n",
    "    fan.turn_on()\n",
    "    air_conditioner.turn_on()\n",
    "\n",
    "def handle_normal_conditions():\n",
    "    fan.turn_off()\n",
    "    air_conditioner.turn_off()\n",
    "    heater.turn_off()\n",
    "\n",
    "if is_hot_afternoon(temperature, humidity, time_of_day):\n",
    "    handle_hot_afternoon()\n",
    "elif is_cold_morning(temperature, time_of_day):\n",
    "    handle_cold_morning()\n",
    "elif is_warm_evening(temperature, time_of_day):\n",
    "    handle_warm_evening()\n",
    "else:\n",
    "    handle_normal_conditions()\n",
    "```"
   ]
  },
  {
   "cell_type": "markdown",
   "id": "308ac218",
   "metadata": {},
   "source": [
    "__Do Not Have Side Effects__  \n",
    "\n",
    "Side effects occur when a function modifies something outside of its own scope, such as changing the value of a global variable or modifying an object that was passed as an argument.\n",
    "\n",
    "Functions with side effects can be harder to test and debug, as their behavior can depend on external factors that may be difficult to control. Additionally, side effects can make it harder to reason about the behavior of the code and can lead to unexpected bugs and errors.\n",
    "\n",
    "A good practice is to make functions \"pure\", meaning they only rely on their input parameters and don't modify anything outside of their own scope. This makes the functions more predictable and easier to test and debug."
   ]
  },
  {
   "cell_type": "code",
   "execution_count": null,
   "id": "c3a70817",
   "metadata": {},
   "outputs": [],
   "source": [
    "# Bad\n",
    "total = 0\n",
    "\n",
    "def add_to_total(amount):\n",
    "    global total\n",
    "    total += amount\n"
   ]
  },
  {
   "cell_type": "markdown",
   "id": "ba1e48b6",
   "metadata": {},
   "source": [
    "The `add_to_total()` function modifies the value of the global variable total, which is outside of its own scope. This can make it difficult to track changes to the total variable and can lead to unexpected behavior if other parts of the code depend on its value."
   ]
  },
  {
   "cell_type": "code",
   "execution_count": null,
   "id": "d7506b14",
   "metadata": {},
   "outputs": [],
   "source": [
    "# Good\n",
    "def calculate_total(amounts):\n",
    "    total = 0\n",
    "    for amount in amounts:\n",
    "        total += amount\n",
    "    return total"
   ]
  },
  {
   "cell_type": "markdown",
   "id": "04ac6fe6",
   "metadata": {},
   "source": [
    "In this example, `the calculate_total()` function takes in a list of amounts as an input parameter and returns the total. It doesn't modify anything outside of its own scope, making it easier to test and debug. Additionally, by returning the total instead of modifying a global variable, this function can be used in a wider variety of contexts."
   ]
  },
  {
   "cell_type": "markdown",
   "id": "9de4325b",
   "metadata": {},
   "source": [
    "__Are you DRY?__  \n",
    "\n",
    "\n",
    "DRY stands for \"Don't Repeat Yourself\", which is a principle of clean code development that encourages developers to avoid duplicating code as much as possible. Code repetition can be a major problem in software development, as it can make code harder to maintain, more error-prone, and more difficult to update. When you encounter repeated code segments, it's important to take steps to refactor the code and reduce the amount of duplication as much as possible.\n",
    "\n",
    "One effective way to refactor repeated code segments is to use your IDE's refactoring features to extract the duplicated code into a separate method or function. This can help to reduce code duplication and make it easier to update the code in the future."
   ]
  },
  {
   "cell_type": "markdown",
   "id": "99b1e7d6",
   "metadata": {},
   "source": [
    "# Comments\n",
    "You may use comments to explain the purpose, inputs, and outputs of functions. But you need to avoid over-commenting and stating the obvious.\n",
    "\n",
    "![img](https://res.cloudinary.com/practicaldev/image/fetch/s--gPLdAhbi--/c_limit%2Cf_auto%2Cfl_progressive%2Cq_auto%2Cw_880/https://dev-to-uploads.s3.amazonaws.com/uploads/articles/fal0udi31n6r3pwg8d73.png)\n",
    "\n",
    "Oh, one more thing to add, __DO NOT LEAVE CODE IN COMMENTS!__ This one is serious because others who see the code will be afraid to delete it because they do not know if it is there for a reason. That commented out code will stay there for a long time. Then when variable names or method names change, it gets irrelevant but still nobody deletes it."
   ]
  },
  {
   "cell_type": "markdown",
   "id": "b70f8b44",
   "metadata": {},
   "source": [
    "# PEP8  \n",
    "\n",
    "PEP8 is a set of guidelines that dictate how Python code should be formatted and written. The goal of these guidelines is to make code more readable and consistent, so that it's easier to maintain and understand.\n",
    "\n",
    "Some of the key principles of PEP8 include using four spaces for indentation (not tabs), limiting line length to 79 characters, using descriptive names for variables and functions, and using whitespace effectively to improve readability.\n",
    "\n",
    "By following PEP8, you'll not only improve the readability and maintainability of your own code, but you'll also make it easier for others to understand and work with your code. Additionally, adhering to PEP8 makes it easier to collaborate with other developers on large projects, since everyone will be following the same set of guidelines.\n",
    "\n",
    "So if you're looking to improve your Python coding skills, take some time to familiarize yourself with PEP8. With a little practice, you'll be writing beautiful, readable Python code in no time!\n",
    "\n",
    "Finally, here's a [PEP8](https://www.youtube.com/watch?v=hgI0p1zf31k) song for you!"
   ]
  }
 ],
 "metadata": {
  "kernelspec": {
   "display_name": "Python 3 (ipykernel)",
   "language": "python",
   "name": "python3"
  },
  "language_info": {
   "codemirror_mode": {
    "name": "ipython",
    "version": 3
   },
   "file_extension": ".py",
   "mimetype": "text/x-python",
   "name": "python",
   "nbconvert_exporter": "python",
   "pygments_lexer": "ipython3",
   "version": "3.9.12"
  }
 },
 "nbformat": 4,
 "nbformat_minor": 5
}
